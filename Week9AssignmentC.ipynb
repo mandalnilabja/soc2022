{
  "nbformat": 4,
  "nbformat_minor": 0,
  "metadata": {
    "colab": {
      "name": "Week9AssignmentC.ipynb",
      "provenance": [],
      "collapsed_sections": []
    },
    "kernelspec": {
      "name": "python3",
      "display_name": "Python 3"
    },
    "language_info": {
      "name": "python"
    },
    "gpuClass": "standard"
  },
  "cells": [
    {
      "cell_type": "markdown",
      "source": [
        "# Testing and Ensemble"
      ],
      "metadata": {
        "id": "aw1KAbcVfZdS"
      }
    },
    {
      "cell_type": "code",
      "source": [
        "import random\n",
        "import numpy as np\n",
        "import pandas as pd\n",
        "import tensorflow as tf\n",
        "from google.colab import output\n",
        "from tensorflow.keras import backend as K\n",
        "from tensorflow.keras.models import Sequential, load_model\n",
        "from tensorflow.keras.callbacks import ModelCheckpoint\n",
        "from sklearn.preprocessing import StandardScaler\n",
        "from sklearn.metrics import accuracy_score, f1_score, mean_absolute_error"
      ],
      "metadata": {
        "id": "tizls2Rry9tt"
      },
      "execution_count": 57,
      "outputs": []
    },
    {
      "cell_type": "code",
      "source": [
        "def recall_m(y_true, y_pred):\n",
        "    true_positives = K.sum(K.round(K.clip(y_true * y_pred, 0, 1)))\n",
        "    possible_positives = K.sum(K.round(K.clip(y_true, 0, 1)))\n",
        "    recall = true_positives / (possible_positives + K.epsilon())\n",
        "    return recall\n",
        " \n",
        "def precision_m(y_true, y_pred):\n",
        "    true_positives = K.sum(K.round(K.clip(y_true * y_pred, 0, 1)))\n",
        "    predicted_positives = K.sum(K.round(K.clip(y_pred, 0, 1)))\n",
        "    precision = true_positives / (predicted_positives + K.epsilon())\n",
        "    return precision\n",
        " \n",
        "def f1_m(y_true, y_pred):\n",
        "    precision = precision_m(y_true, y_pred)\n",
        "    recall = recall_m(y_true, y_pred)\n",
        "    return 2*((precision*recall)/(precision+recall+K.epsilon()))\n",
        " \n",
        "def f1macro(y_true, y_pred):\n",
        "    f_pos = f1_m(y_true, y_pred)\n",
        "    # negative version of the data and prediction\n",
        "    f_neg = f1_m(1-y_true, 1-K.clip(y_pred,0,1))\n",
        "    return (f_pos + f_neg)/2"
      ],
      "metadata": {
        "id": "ify4vvFeHG7I"
      },
      "execution_count": 10,
      "outputs": []
    },
    {
      "cell_type": "code",
      "source": [
        "def datagen(data, seq_len, batch_size, targetcol, kind):\n",
        "    #As a generator to produce samples for Keras model\n",
        "    batch = []\n",
        "    while True:\n",
        "        # Pick one dataframe from the pool\n",
        "        key = random.choice(list(data.keys()))\n",
        "        df = data[key]\n",
        "        input_cols = [c for c in df.columns if c != targetcol]\n",
        "        index = df.index[df.index < TRAIN_TEST_CUTOFF]\n",
        "        split = int(len(index) * TRAIN_VALID_RATIO)\n",
        "        if kind == 'train':\n",
        "            index = index[:split]   # range for the training set\n",
        "        elif kind == 'valid':\n",
        "            index = index[split:]   # range for the validation set\n",
        "        # Pick one position, then clip a sequence length\n",
        "        while True:\n",
        "            t = random.choice(index)      # pick one time step\n",
        "            n = (df.index == t).argmax()  # find its position in the dataframe\n",
        "            if n-seq_len+1 < 0:\n",
        "                continue # can't get enough data for one sequence length\n",
        "            frame = df.iloc[n-seq_len+1:n+1]\n",
        "            batch.append([frame[input_cols].values, df.loc[t, targetcol]])\n",
        "            break\n",
        "        # if we get enough for a batch, dispatch\n",
        "        if len(batch) == batch_size:\n",
        "            X, y = zip(*batch)\n",
        "            X, y = np.expand_dims(np.array(X), 3), np.array(y)\n",
        "            yield X, y\n",
        "            batch = []"
      ],
      "metadata": {
        "id": "ldA0d-fC166S"
      },
      "execution_count": 12,
      "outputs": []
    },
    {
      "cell_type": "code",
      "source": [
        "def testgen(data, seq_len, targetcol):\n",
        "    #Return array of all test samples\n",
        "    batch = []\n",
        "    for key, df in data.items():\n",
        "        input_cols = [c for c in df.columns if c != targetcol]\n",
        "        # find the start of test sample\n",
        "        t = df.index[df.index >= TRAIN_TEST_CUTOFF][0]\n",
        "        n = (df.index == t).argmax()\n",
        "        # extract sample using a sliding window\n",
        "        for i in range(n+1, len(df)+1):\n",
        "            frame = df.iloc[i-seq_len:i]\n",
        "            batch.append([frame[input_cols].values, frame[targetcol][-1]])\n",
        "    X, y = zip(*batch)\n",
        "    return np.expand_dims(np.array(X),3), np.array(y)"
      ],
      "metadata": {
        "id": "jif16IhIHLAj"
      },
      "execution_count": 13,
      "outputs": []
    },
    {
      "cell_type": "code",
      "source": [
        "dir={'DJI':'https://raw.githubusercontent.com/mandalnilabja/soc2022/main/data/Processed_DJI.csv',\n",
        "     'NASDAQ':'https://raw.githubusercontent.com/mandalnilabja/soc2022/main/data/Processed_NASDAQ.csv',\n",
        "     'NYSE':'https://raw.githubusercontent.com/mandalnilabja/soc2022/main/data/Processed_NYSE.csv',\n",
        "     'RUSSELL':'https://raw.githubusercontent.com/mandalnilabja/soc2022/main/data/Processed_RUSSELL.csv',\n",
        "     'S&P':'https://raw.githubusercontent.com/mandalnilabja/soc2022/main/data/Processed_S&P.csv'\n",
        "     }\n",
        "\n",
        "\n",
        "TRAIN_TEST_CUTOFF = '2016-04-21'\n",
        "TRAIN_VALID_RATIO = 0.75\n",
        "\n",
        "\n",
        "data = {}\n",
        "\n",
        "\n",
        "for name, filepath in dir.items():\n",
        "    X = pd.read_csv(filepath, index_col=\"Date\", parse_dates=True)\n",
        "    \n",
        "    # basic preprocessing: get the name, the classification\n",
        "    del X[\"Name\"]\n",
        "    cols = X.columns\n",
        "    \n",
        "    # Save the target variable as a column in dataframe and drop NaN values\n",
        "    X[\"Target\"] = (X[\"Close\"].pct_change().shift(-1) > 0).astype(int)\n",
        "    X.dropna(inplace=True)\n",
        "   \n",
        "    # Fit the standard scaler using the training dataset not whole data set\n",
        "    index = X.index[X.index > TRAIN_TEST_CUTOFF]\n",
        "    index = index[:int(len(index) * TRAIN_VALID_RATIO)]\n",
        "    scaler = StandardScaler().fit(X.loc[index, cols])\n",
        "    \n",
        "    # Save scale transformed dataframe\n",
        "    X[cols] = scaler.transform(X[cols])\n",
        "    data[name] = X"
      ],
      "metadata": {
        "id": "aJowCJds2VcQ"
      },
      "execution_count": 14,
      "outputs": []
    },
    {
      "cell_type": "markdown",
      "source": [
        "# Testing"
      ],
      "metadata": {
        "id": "NizQ5dc-WmnV"
      }
    },
    {
      "cell_type": "markdown",
      "source": [
        "Testing the 64 2dCNNpred models generated on Accuaracy, Mean Absolute Error and Macro Averaged F1 Score. Hyperparameters that can be varied epochs, optimizer, batch size, droput rate, loss fuction."
      ],
      "metadata": {
        "id": "R9g8udsXXCyd"
      }
    },
    {
      "cell_type": "code",
      "source": [
        "param_list = [\n",
        " ['sgd', 'mae', 0.05], ['adam', 'mae', 0.1], ['adagrad', 'mae',  0.05], ['adamax', 'binary_focal_crossentropy', 0.1], \n",
        " ['sgd', 'binary_focal_crossentropy', 0.1], ['adam', 'binary_focal_crossentropy', 0.15], ['adagrad', 'mae', 0.1], ['adamax', 'binary_focal_crossentropy', 0.15], \n",
        " ['sgd', 'binary_crossentropy', 0.15], ['adam', 'binary_crossentropy', 0.2], ['adagrad', 'hinge', 0.2], ['adamax', 'binary_crossentropy', 0.15],\n",
        " ['sgd', 'hinge', 0.2], ['adam', 'hinge',  0.05], ['adagrad', 'hinge',  0.05], ['adamax', 'binary_crossentropy', 0.2]\n",
        " ]\n",
        "\n",
        "id=2\n",
        "\n",
        "df_eval=pd.DataFrame(columns=['id', 'optimizing_algo', 'loss_function','dropout_rate', 'batch_size', 'epochs', 'accuracy', 'MAE', 'F1'])\n",
        "\n",
        "\n",
        "for batch_size in [64, 32]:\n",
        "  for n_epochs in [20, 30]:\n",
        "    for optim, lossfxn, dr in param_list:\n",
        "   \n",
        "      #load model for testing\n",
        "      model = tf.keras.models.load_model('2dCNNpredm{}.h5'.format(id), compile=False)     \n",
        "      model.compile(optimizer=optim, loss=lossfxn, metrics=[\"acc\", f1macro])\n",
        "      \n",
        "      \n",
        "      # Prepare test data\n",
        "      test_data, test_target = testgen(data, 60, \"Target\")\n",
        "      \n",
        "      # Test the model\n",
        "      test_out = model.predict(test_data)\n",
        "      test_pred = (test_out > 0.5).astype(int)\n",
        "      \n",
        "\n",
        "      #measuring and saving performance\n",
        "      df_eval.loc[len(df_eval)]=[id, optim, lossfxn, dr, batch_size, n_epochs, accuracy_score(test_pred, test_target), mean_absolute_error(test_pred, test_target), f1_score(test_pred, test_target)]\n",
        "\n",
        "      output.clear()      \n",
        "      print(id)\n",
        "\n",
        "      #index of model\n",
        "      id = id + 1\n",
        "      "
      ],
      "metadata": {
        "colab": {
          "base_uri": "https://localhost:8080/"
        },
        "id": "ImWlWrylHVwv",
        "outputId": "c43c7d9b-b61e-48c4-a02c-6aa0fc9aaa07"
      },
      "execution_count": 29,
      "outputs": [
        {
          "output_type": "stream",
          "name": "stdout",
          "text": [
            "65\n"
          ]
        }
      ]
    },
    {
      "cell_type": "code",
      "source": [
        "df_eval.to_csv('CNNpred_WallStreet_performances.csv')\n",
        "df_eval.head()"
      ],
      "metadata": {
        "colab": {
          "base_uri": "https://localhost:8080/",
          "height": 206
        },
        "id": "MPuEMWw0nQXe",
        "outputId": "da19b6fd-34b8-4158-c2e3-e5e6ba1c9420"
      },
      "execution_count": 30,
      "outputs": [
        {
          "output_type": "execute_result",
          "data": {
            "text/plain": [
              "  id optimizing_algo              loss_function  dropout_rate batch_size  \\\n",
              "0  2             sgd                        mae          0.05         64   \n",
              "1  3            adam                        mae          0.10         64   \n",
              "2  4         adagrad                        mae          0.05         64   \n",
              "3  5          adamax  binary_focal_crossentropy          0.10         64   \n",
              "4  6             sgd  binary_focal_crossentropy          0.10         64   \n",
              "\n",
              "  epochs  accuracy       MAE        F1  \n",
              "0     20  0.537561  0.462439  0.699239  \n",
              "1     20  0.507317  0.492683  0.566524  \n",
              "2     20  0.537561  0.462439  0.699239  \n",
              "3     20  0.514146  0.485854  0.511765  \n",
              "4     20  0.566829  0.433171  0.628141  "
            ],
            "text/html": [
              "\n",
              "  <div id=\"df-e5de15ca-73d0-425a-9357-4255ad096d49\">\n",
              "    <div class=\"colab-df-container\">\n",
              "      <div>\n",
              "<style scoped>\n",
              "    .dataframe tbody tr th:only-of-type {\n",
              "        vertical-align: middle;\n",
              "    }\n",
              "\n",
              "    .dataframe tbody tr th {\n",
              "        vertical-align: top;\n",
              "    }\n",
              "\n",
              "    .dataframe thead th {\n",
              "        text-align: right;\n",
              "    }\n",
              "</style>\n",
              "<table border=\"1\" class=\"dataframe\">\n",
              "  <thead>\n",
              "    <tr style=\"text-align: right;\">\n",
              "      <th></th>\n",
              "      <th>id</th>\n",
              "      <th>optimizing_algo</th>\n",
              "      <th>loss_function</th>\n",
              "      <th>dropout_rate</th>\n",
              "      <th>batch_size</th>\n",
              "      <th>epochs</th>\n",
              "      <th>accuracy</th>\n",
              "      <th>MAE</th>\n",
              "      <th>F1</th>\n",
              "    </tr>\n",
              "  </thead>\n",
              "  <tbody>\n",
              "    <tr>\n",
              "      <th>0</th>\n",
              "      <td>2</td>\n",
              "      <td>sgd</td>\n",
              "      <td>mae</td>\n",
              "      <td>0.05</td>\n",
              "      <td>64</td>\n",
              "      <td>20</td>\n",
              "      <td>0.537561</td>\n",
              "      <td>0.462439</td>\n",
              "      <td>0.699239</td>\n",
              "    </tr>\n",
              "    <tr>\n",
              "      <th>1</th>\n",
              "      <td>3</td>\n",
              "      <td>adam</td>\n",
              "      <td>mae</td>\n",
              "      <td>0.10</td>\n",
              "      <td>64</td>\n",
              "      <td>20</td>\n",
              "      <td>0.507317</td>\n",
              "      <td>0.492683</td>\n",
              "      <td>0.566524</td>\n",
              "    </tr>\n",
              "    <tr>\n",
              "      <th>2</th>\n",
              "      <td>4</td>\n",
              "      <td>adagrad</td>\n",
              "      <td>mae</td>\n",
              "      <td>0.05</td>\n",
              "      <td>64</td>\n",
              "      <td>20</td>\n",
              "      <td>0.537561</td>\n",
              "      <td>0.462439</td>\n",
              "      <td>0.699239</td>\n",
              "    </tr>\n",
              "    <tr>\n",
              "      <th>3</th>\n",
              "      <td>5</td>\n",
              "      <td>adamax</td>\n",
              "      <td>binary_focal_crossentropy</td>\n",
              "      <td>0.10</td>\n",
              "      <td>64</td>\n",
              "      <td>20</td>\n",
              "      <td>0.514146</td>\n",
              "      <td>0.485854</td>\n",
              "      <td>0.511765</td>\n",
              "    </tr>\n",
              "    <tr>\n",
              "      <th>4</th>\n",
              "      <td>6</td>\n",
              "      <td>sgd</td>\n",
              "      <td>binary_focal_crossentropy</td>\n",
              "      <td>0.10</td>\n",
              "      <td>64</td>\n",
              "      <td>20</td>\n",
              "      <td>0.566829</td>\n",
              "      <td>0.433171</td>\n",
              "      <td>0.628141</td>\n",
              "    </tr>\n",
              "  </tbody>\n",
              "</table>\n",
              "</div>\n",
              "      <button class=\"colab-df-convert\" onclick=\"convertToInteractive('df-e5de15ca-73d0-425a-9357-4255ad096d49')\"\n",
              "              title=\"Convert this dataframe to an interactive table.\"\n",
              "              style=\"display:none;\">\n",
              "        \n",
              "  <svg xmlns=\"http://www.w3.org/2000/svg\" height=\"24px\"viewBox=\"0 0 24 24\"\n",
              "       width=\"24px\">\n",
              "    <path d=\"M0 0h24v24H0V0z\" fill=\"none\"/>\n",
              "    <path d=\"M18.56 5.44l.94 2.06.94-2.06 2.06-.94-2.06-.94-.94-2.06-.94 2.06-2.06.94zm-11 1L8.5 8.5l.94-2.06 2.06-.94-2.06-.94L8.5 2.5l-.94 2.06-2.06.94zm10 10l.94 2.06.94-2.06 2.06-.94-2.06-.94-.94-2.06-.94 2.06-2.06.94z\"/><path d=\"M17.41 7.96l-1.37-1.37c-.4-.4-.92-.59-1.43-.59-.52 0-1.04.2-1.43.59L10.3 9.45l-7.72 7.72c-.78.78-.78 2.05 0 2.83L4 21.41c.39.39.9.59 1.41.59.51 0 1.02-.2 1.41-.59l7.78-7.78 2.81-2.81c.8-.78.8-2.07 0-2.86zM5.41 20L4 18.59l7.72-7.72 1.47 1.35L5.41 20z\"/>\n",
              "  </svg>\n",
              "      </button>\n",
              "      \n",
              "  <style>\n",
              "    .colab-df-container {\n",
              "      display:flex;\n",
              "      flex-wrap:wrap;\n",
              "      gap: 12px;\n",
              "    }\n",
              "\n",
              "    .colab-df-convert {\n",
              "      background-color: #E8F0FE;\n",
              "      border: none;\n",
              "      border-radius: 50%;\n",
              "      cursor: pointer;\n",
              "      display: none;\n",
              "      fill: #1967D2;\n",
              "      height: 32px;\n",
              "      padding: 0 0 0 0;\n",
              "      width: 32px;\n",
              "    }\n",
              "\n",
              "    .colab-df-convert:hover {\n",
              "      background-color: #E2EBFA;\n",
              "      box-shadow: 0px 1px 2px rgba(60, 64, 67, 0.3), 0px 1px 3px 1px rgba(60, 64, 67, 0.15);\n",
              "      fill: #174EA6;\n",
              "    }\n",
              "\n",
              "    [theme=dark] .colab-df-convert {\n",
              "      background-color: #3B4455;\n",
              "      fill: #D2E3FC;\n",
              "    }\n",
              "\n",
              "    [theme=dark] .colab-df-convert:hover {\n",
              "      background-color: #434B5C;\n",
              "      box-shadow: 0px 1px 3px 1px rgba(0, 0, 0, 0.15);\n",
              "      filter: drop-shadow(0px 1px 2px rgba(0, 0, 0, 0.3));\n",
              "      fill: #FFFFFF;\n",
              "    }\n",
              "  </style>\n",
              "\n",
              "      <script>\n",
              "        const buttonEl =\n",
              "          document.querySelector('#df-e5de15ca-73d0-425a-9357-4255ad096d49 button.colab-df-convert');\n",
              "        buttonEl.style.display =\n",
              "          google.colab.kernel.accessAllowed ? 'block' : 'none';\n",
              "\n",
              "        async function convertToInteractive(key) {\n",
              "          const element = document.querySelector('#df-e5de15ca-73d0-425a-9357-4255ad096d49');\n",
              "          const dataTable =\n",
              "            await google.colab.kernel.invokeFunction('convertToInteractive',\n",
              "                                                     [key], {});\n",
              "          if (!dataTable) return;\n",
              "\n",
              "          const docLinkHtml = 'Like what you see? Visit the ' +\n",
              "            '<a target=\"_blank\" href=https://colab.research.google.com/notebooks/data_table.ipynb>data table notebook</a>'\n",
              "            + ' to learn more about interactive tables.';\n",
              "          element.innerHTML = '';\n",
              "          dataTable['output_type'] = 'display_data';\n",
              "          await google.colab.output.renderOutput(dataTable, element);\n",
              "          const docLink = document.createElement('div');\n",
              "          docLink.innerHTML = docLinkHtml;\n",
              "          element.appendChild(docLink);\n",
              "        }\n",
              "      </script>\n",
              "    </div>\n",
              "  </div>\n",
              "  "
            ]
          },
          "metadata": {},
          "execution_count": 30
        }
      ]
    },
    {
      "cell_type": "markdown",
      "source": [
        "# Ensemble - Bagging"
      ],
      "metadata": {
        "id": "R9oh4aq2XmMX"
      }
    },
    {
      "cell_type": "markdown",
      "source": [
        "Ensemble-Bagging based on Hard Voting"
      ],
      "metadata": {
        "id": "TL3eZAo3sbQt"
      }
    },
    {
      "cell_type": "code",
      "source": [
        "test_pred=np.zeros((1025,1))\n",
        "\n",
        "# Prepare test data\n",
        "test_data, test_target = testgen(data, 60, \"Target\")\n",
        "\n",
        "\n",
        "for id in range (1,66):\n",
        "  #load model for testing\n",
        "  model = tf.keras.models.load_model('2dCNNpredm{}.h5'.format(id), compile=False)     \n",
        "  model.compile(optimizer=optim, loss=lossfxn, metrics=[\"acc\", f1macro])\n",
        "      \n",
        "\n",
        "  # Test the model\n",
        "  test_out = model.predict(test_data)\n",
        "  test_pred = np.add(test_pred, np.array((test_out > 0.5).astype(int)))\n",
        "      \n",
        "\n",
        "  #displaying progress\n",
        "  output.clear() \n",
        "  print(id)\n",
        "\n",
        "  #index of model\n",
        "  id = id + 1\n",
        "\n",
        "test_pred = (test_pred/id > 0.5).astype(int)\n",
        "\n",
        "accuracy = accuracy_score(test_pred, test_target)\n",
        "MAE = mean_absolute_error(test_pred, test_target)\n",
        "F1 = f1_score(test_pred, test_target)"
      ],
      "metadata": {
        "colab": {
          "base_uri": "https://localhost:8080/"
        },
        "id": "GmeMOxoNuyJw",
        "outputId": "b975bb14-1e79-4d5c-af66-b69d6d2c4984"
      },
      "execution_count": 56,
      "outputs": [
        {
          "output_type": "stream",
          "name": "stdout",
          "text": [
            "65\n"
          ]
        }
      ]
    },
    {
      "cell_type": "code",
      "source": [
        "print(accuracy)\n",
        "print(MAE)\n",
        "print(F1)"
      ],
      "metadata": {
        "colab": {
          "base_uri": "https://localhost:8080/"
        },
        "id": "GaBNVmXR2OuT",
        "outputId": "f6cd0b8e-8459-451d-a5c3-27195726d891"
      },
      "execution_count": 55,
      "outputs": [
        {
          "output_type": "stream",
          "name": "stdout",
          "text": [
            "0.5375609756097561\n",
            "0.4624390243902439\n",
            "0.6992385786802031\n"
          ]
        }
      ]
    }
  ]
}