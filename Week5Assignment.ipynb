{
  "nbformat": 4,
  "nbformat_minor": 0,
  "metadata": {
    "colab": {
      "name": "Week5Assignment.ipynb",
      "provenance": [],
      "collapsed_sections": []
    },
    "kernelspec": {
      "name": "python3",
      "display_name": "Python 3"
    },
    "language_info": {
      "name": "python"
    },
    "accelerator": "GPU",
    "gpuClass": "standard"
  },
  "cells": [
    {
      "cell_type": "markdown",
      "source": [
        "3d CNN Classification of 3d MNIST Dataset taken from Kaggle https://www.kaggle.com/datasets/daavoo/3d-mnist\n"
      ],
      "metadata": {
        "id": "_3S4Ul9y9_o3"
      }
    },
    {
      "cell_type": "code",
      "execution_count": 1,
      "metadata": {
        "id": "ysX_6dxfjPjK"
      },
      "outputs": [],
      "source": [
        "import numpy as np \n",
        "import h5py\n",
        "from tensorflow.keras.utils import to_categorical\n",
        "from tensorflow.keras import layers\n",
        "from tensorflow.keras.models import Sequential\n",
        "from tensorflow.keras.initializers import Constant\n",
        "from tensorflow.keras.optimizers import Adam\n",
        "from tensorflow.keras.callbacks import EarlyStopping"
      ]
    },
    {
      "cell_type": "code",
      "source": [
        "#loading dataset\n",
        "\n",
        "with h5py.File('full_dataset_vectors.h5', 'r') as dataset:\n",
        "  xtrain, xtest = dataset[\"X_train\"][:], dataset[\"X_test\"][:]\n",
        "  ytrain, ytest = dataset[\"y_train\"][:], dataset[\"y_test\"][:]\n",
        "xtrain = np.array(xtrain)\n",
        "xtest = np.array(xtest)\n",
        "print('train shape:', xtrain.shape)\n",
        "print('test shape:', xtest.shape)\n",
        "xtrain = xtrain.reshape(xtrain.shape[0], 16, 16, 16, 1)\n",
        "xtest = xtest.reshape(xtest.shape[0], 16, 16, 16, 1)\n",
        "ytrain, ytest = to_categorical(ytrain, 10), to_categorical(ytest, 10)"
      ],
      "metadata": {
        "colab": {
          "base_uri": "https://localhost:8080/"
        },
        "id": "v_B3ocXKjitQ",
        "outputId": "da5c98ea-7cfc-4c52-e75a-d76728cffc82"
      },
      "execution_count": 2,
      "outputs": [
        {
          "output_type": "stream",
          "name": "stdout",
          "text": [
            "train shape: (10000, 4096)\n",
            "test shape: (2000, 4096)\n"
          ]
        }
      ]
    },
    {
      "cell_type": "code",
      "source": [
        "model = Sequential()\n",
        "model.add(layers.Conv3D(32,(3,3,3),activation='relu',input_shape=(16,16,16,1),bias_initializer=Constant(0.01)))\n",
        "model.add(layers.Conv3D(32,(3,3,3),activation='relu',bias_initializer=Constant(0.01)))\n",
        "model.add(layers.MaxPooling3D((2,2,2)))\n",
        "model.add(layers.Conv3D(64,(3,3,3),activation='relu'))\n",
        "model.add(layers.Conv3D(64,(2,2,2),activation='relu'))\n",
        "model.add(layers.MaxPooling3D((2,2,2)))\n",
        "model.add(layers.Dropout(0.6))\n",
        "model.add(layers.Flatten())\n",
        "model.add(layers.Dense(256,'relu'))\n",
        "model.add(layers.Dropout(0.7))\n",
        "model.add(layers.Dense(128,'relu'))\n",
        "model.add(layers.Dropout(0.5))\n",
        "model.add(layers.Dense(10,'softmax'))\n",
        "model.summary()"
      ],
      "metadata": {
        "colab": {
          "base_uri": "https://localhost:8080/"
        },
        "id": "nX0FbkA_4Zgv",
        "outputId": "4cc5c878-5733-4877-ed02-269e79f76bef"
      },
      "execution_count": 3,
      "outputs": [
        {
          "output_type": "stream",
          "name": "stdout",
          "text": [
            "Model: \"sequential\"\n",
            "_________________________________________________________________\n",
            " Layer (type)                Output Shape              Param #   \n",
            "=================================================================\n",
            " conv3d (Conv3D)             (None, 14, 14, 14, 32)    896       \n",
            "                                                                 \n",
            " conv3d_1 (Conv3D)           (None, 12, 12, 12, 32)    27680     \n",
            "                                                                 \n",
            " max_pooling3d (MaxPooling3D  (None, 6, 6, 6, 32)      0         \n",
            " )                                                               \n",
            "                                                                 \n",
            " conv3d_2 (Conv3D)           (None, 4, 4, 4, 64)       55360     \n",
            "                                                                 \n",
            " conv3d_3 (Conv3D)           (None, 3, 3, 3, 64)       32832     \n",
            "                                                                 \n",
            " max_pooling3d_1 (MaxPooling  (None, 1, 1, 1, 64)      0         \n",
            " 3D)                                                             \n",
            "                                                                 \n",
            " dropout (Dropout)           (None, 1, 1, 1, 64)       0         \n",
            "                                                                 \n",
            " flatten (Flatten)           (None, 64)                0         \n",
            "                                                                 \n",
            " dense (Dense)               (None, 256)               16640     \n",
            "                                                                 \n",
            " dropout_1 (Dropout)         (None, 256)               0         \n",
            "                                                                 \n",
            " dense_1 (Dense)             (None, 128)               32896     \n",
            "                                                                 \n",
            " dropout_2 (Dropout)         (None, 128)               0         \n",
            "                                                                 \n",
            " dense_2 (Dense)             (None, 10)                1290      \n",
            "                                                                 \n",
            "=================================================================\n",
            "Total params: 167,594\n",
            "Trainable params: 167,594\n",
            "Non-trainable params: 0\n",
            "_________________________________________________________________\n"
          ]
        }
      ]
    },
    {
      "cell_type": "code",
      "source": [
        "model.compile(Adam(0.001),'categorical_crossentropy',['accuracy'])\n",
        "model.fit(xtrain,ytrain,epochs=200,batch_size=32,verbose=1,validation_data=(xtest,ytest),callbacks=[EarlyStopping(patience=15)])"
      ],
      "metadata": {
        "colab": {
          "base_uri": "https://localhost:8080/"
        },
        "id": "qfHwZHL44j5k",
        "outputId": "81a4c036-1fad-4683-e9a4-e6b990642317"
      },
      "execution_count": 4,
      "outputs": [
        {
          "output_type": "stream",
          "name": "stdout",
          "text": [
            "Epoch 1/200\n",
            "313/313 [==============================] - 16s 11ms/step - loss: 2.3015 - accuracy: 0.1066 - val_loss: 2.2846 - val_accuracy: 0.1320\n",
            "Epoch 2/200\n",
            "313/313 [==============================] - 3s 10ms/step - loss: 2.1864 - accuracy: 0.1698 - val_loss: 2.0488 - val_accuracy: 0.2320\n",
            "Epoch 3/200\n",
            "313/313 [==============================] - 3s 10ms/step - loss: 2.0129 - accuracy: 0.2441 - val_loss: 1.7852 - val_accuracy: 0.3090\n",
            "Epoch 4/200\n",
            "313/313 [==============================] - 3s 10ms/step - loss: 1.8506 - accuracy: 0.2973 - val_loss: 1.6165 - val_accuracy: 0.3810\n",
            "Epoch 5/200\n",
            "313/313 [==============================] - 3s 10ms/step - loss: 1.7411 - accuracy: 0.3401 - val_loss: 1.5286 - val_accuracy: 0.4310\n",
            "Epoch 6/200\n",
            "313/313 [==============================] - 3s 10ms/step - loss: 1.6815 - accuracy: 0.3675 - val_loss: 1.5080 - val_accuracy: 0.4320\n",
            "Epoch 7/200\n",
            "313/313 [==============================] - 3s 10ms/step - loss: 1.6222 - accuracy: 0.3784 - val_loss: 1.4384 - val_accuracy: 0.4705\n",
            "Epoch 8/200\n",
            "313/313 [==============================] - 3s 10ms/step - loss: 1.5614 - accuracy: 0.4061 - val_loss: 1.3805 - val_accuracy: 0.4805\n",
            "Epoch 9/200\n",
            "313/313 [==============================] - 3s 10ms/step - loss: 1.5194 - accuracy: 0.4272 - val_loss: 1.3755 - val_accuracy: 0.4940\n",
            "Epoch 10/200\n",
            "313/313 [==============================] - 3s 10ms/step - loss: 1.4774 - accuracy: 0.4383 - val_loss: 1.3991 - val_accuracy: 0.4925\n",
            "Epoch 11/200\n",
            "313/313 [==============================] - 3s 10ms/step - loss: 1.4388 - accuracy: 0.4717 - val_loss: 1.3108 - val_accuracy: 0.5325\n",
            "Epoch 12/200\n",
            "313/313 [==============================] - 3s 10ms/step - loss: 1.3895 - accuracy: 0.4835 - val_loss: 1.2617 - val_accuracy: 0.5565\n",
            "Epoch 13/200\n",
            "313/313 [==============================] - 3s 11ms/step - loss: 1.3692 - accuracy: 0.4946 - val_loss: 1.2327 - val_accuracy: 0.5775\n",
            "Epoch 14/200\n",
            "313/313 [==============================] - 3s 11ms/step - loss: 1.3243 - accuracy: 0.5189 - val_loss: 1.2067 - val_accuracy: 0.5885\n",
            "Epoch 15/200\n",
            "313/313 [==============================] - 3s 10ms/step - loss: 1.3092 - accuracy: 0.5238 - val_loss: 1.1891 - val_accuracy: 0.5790\n",
            "Epoch 16/200\n",
            "313/313 [==============================] - 3s 10ms/step - loss: 1.2723 - accuracy: 0.5381 - val_loss: 1.2259 - val_accuracy: 0.5855\n",
            "Epoch 17/200\n",
            "313/313 [==============================] - 3s 10ms/step - loss: 1.2400 - accuracy: 0.5432 - val_loss: 1.1759 - val_accuracy: 0.5950\n",
            "Epoch 18/200\n",
            "313/313 [==============================] - 3s 10ms/step - loss: 1.2235 - accuracy: 0.5524 - val_loss: 1.1681 - val_accuracy: 0.5975\n",
            "Epoch 19/200\n",
            "313/313 [==============================] - 3s 10ms/step - loss: 1.1902 - accuracy: 0.5630 - val_loss: 1.1843 - val_accuracy: 0.6040\n",
            "Epoch 20/200\n",
            "313/313 [==============================] - 3s 10ms/step - loss: 1.1936 - accuracy: 0.5647 - val_loss: 1.1696 - val_accuracy: 0.5955\n",
            "Epoch 21/200\n",
            "313/313 [==============================] - 3s 10ms/step - loss: 1.1539 - accuracy: 0.5743 - val_loss: 1.1308 - val_accuracy: 0.6170\n",
            "Epoch 22/200\n",
            "313/313 [==============================] - 3s 10ms/step - loss: 1.1214 - accuracy: 0.5967 - val_loss: 1.1235 - val_accuracy: 0.6205\n",
            "Epoch 23/200\n",
            "313/313 [==============================] - 3s 10ms/step - loss: 1.1033 - accuracy: 0.5997 - val_loss: 1.0832 - val_accuracy: 0.6245\n",
            "Epoch 24/200\n",
            "313/313 [==============================] - 3s 10ms/step - loss: 1.0691 - accuracy: 0.6177 - val_loss: 1.0915 - val_accuracy: 0.6115\n",
            "Epoch 25/200\n",
            "313/313 [==============================] - 3s 10ms/step - loss: 1.0655 - accuracy: 0.6228 - val_loss: 1.1374 - val_accuracy: 0.6195\n",
            "Epoch 26/200\n",
            "313/313 [==============================] - 3s 10ms/step - loss: 1.0396 - accuracy: 0.6257 - val_loss: 1.1135 - val_accuracy: 0.6285\n",
            "Epoch 27/200\n",
            "313/313 [==============================] - 3s 10ms/step - loss: 1.0308 - accuracy: 0.6267 - val_loss: 1.1153 - val_accuracy: 0.6330\n",
            "Epoch 28/200\n",
            "313/313 [==============================] - 3s 10ms/step - loss: 0.9958 - accuracy: 0.6398 - val_loss: 1.1043 - val_accuracy: 0.6210\n",
            "Epoch 29/200\n",
            "313/313 [==============================] - 3s 10ms/step - loss: 0.9907 - accuracy: 0.6454 - val_loss: 1.1199 - val_accuracy: 0.6245\n",
            "Epoch 30/200\n",
            "313/313 [==============================] - 3s 10ms/step - loss: 0.9887 - accuracy: 0.6468 - val_loss: 1.0981 - val_accuracy: 0.6325\n",
            "Epoch 31/200\n",
            "313/313 [==============================] - 3s 10ms/step - loss: 0.9734 - accuracy: 0.6534 - val_loss: 1.1502 - val_accuracy: 0.6145\n",
            "Epoch 32/200\n",
            "313/313 [==============================] - 3s 10ms/step - loss: 0.9678 - accuracy: 0.6534 - val_loss: 1.0924 - val_accuracy: 0.6330\n",
            "Epoch 33/200\n",
            "313/313 [==============================] - 3s 10ms/step - loss: 0.9453 - accuracy: 0.6616 - val_loss: 1.0906 - val_accuracy: 0.6245\n",
            "Epoch 34/200\n",
            "313/313 [==============================] - 3s 11ms/step - loss: 0.9487 - accuracy: 0.6590 - val_loss: 1.0971 - val_accuracy: 0.6340\n",
            "Epoch 35/200\n",
            "313/313 [==============================] - 3s 10ms/step - loss: 0.9187 - accuracy: 0.6715 - val_loss: 1.1191 - val_accuracy: 0.6135\n",
            "Epoch 36/200\n",
            "313/313 [==============================] - 3s 10ms/step - loss: 0.9073 - accuracy: 0.6693 - val_loss: 1.0682 - val_accuracy: 0.6395\n",
            "Epoch 37/200\n",
            "313/313 [==============================] - 3s 10ms/step - loss: 0.8877 - accuracy: 0.6817 - val_loss: 1.1468 - val_accuracy: 0.6365\n",
            "Epoch 38/200\n",
            "313/313 [==============================] - 3s 10ms/step - loss: 0.8982 - accuracy: 0.6802 - val_loss: 1.0621 - val_accuracy: 0.6525\n",
            "Epoch 39/200\n",
            "313/313 [==============================] - 3s 10ms/step - loss: 0.8711 - accuracy: 0.6920 - val_loss: 1.0954 - val_accuracy: 0.6385\n",
            "Epoch 40/200\n",
            "313/313 [==============================] - 3s 10ms/step - loss: 0.8723 - accuracy: 0.6859 - val_loss: 1.1146 - val_accuracy: 0.6395\n",
            "Epoch 41/200\n",
            "313/313 [==============================] - 3s 10ms/step - loss: 0.8546 - accuracy: 0.6975 - val_loss: 1.1345 - val_accuracy: 0.6385\n",
            "Epoch 42/200\n",
            "313/313 [==============================] - 3s 10ms/step - loss: 0.8574 - accuracy: 0.6940 - val_loss: 1.1210 - val_accuracy: 0.6365\n",
            "Epoch 43/200\n",
            "313/313 [==============================] - 3s 10ms/step - loss: 0.8346 - accuracy: 0.7047 - val_loss: 1.1112 - val_accuracy: 0.6370\n",
            "Epoch 44/200\n",
            "313/313 [==============================] - 3s 10ms/step - loss: 0.8260 - accuracy: 0.7037 - val_loss: 1.1382 - val_accuracy: 0.6440\n",
            "Epoch 45/200\n",
            "313/313 [==============================] - 3s 10ms/step - loss: 0.8071 - accuracy: 0.7166 - val_loss: 1.1138 - val_accuracy: 0.6380\n",
            "Epoch 46/200\n",
            "313/313 [==============================] - 3s 10ms/step - loss: 0.7952 - accuracy: 0.7183 - val_loss: 1.1352 - val_accuracy: 0.6410\n",
            "Epoch 47/200\n",
            "313/313 [==============================] - 3s 10ms/step - loss: 0.7861 - accuracy: 0.7215 - val_loss: 1.1082 - val_accuracy: 0.6435\n",
            "Epoch 48/200\n",
            "313/313 [==============================] - 3s 10ms/step - loss: 0.7841 - accuracy: 0.7201 - val_loss: 1.1478 - val_accuracy: 0.6340\n",
            "Epoch 49/200\n",
            "313/313 [==============================] - 3s 10ms/step - loss: 0.7800 - accuracy: 0.7272 - val_loss: 1.1390 - val_accuracy: 0.6370\n",
            "Epoch 50/200\n",
            "313/313 [==============================] - 3s 10ms/step - loss: 0.7719 - accuracy: 0.7303 - val_loss: 1.1497 - val_accuracy: 0.6450\n",
            "Epoch 51/200\n",
            "313/313 [==============================] - 3s 10ms/step - loss: 0.7556 - accuracy: 0.7320 - val_loss: 1.1475 - val_accuracy: 0.6325\n",
            "Epoch 52/200\n",
            "313/313 [==============================] - 3s 10ms/step - loss: 0.7636 - accuracy: 0.7327 - val_loss: 1.1250 - val_accuracy: 0.6580\n",
            "Epoch 53/200\n",
            "313/313 [==============================] - 3s 10ms/step - loss: 0.7312 - accuracy: 0.7391 - val_loss: 1.1304 - val_accuracy: 0.6515\n"
          ]
        },
        {
          "output_type": "execute_result",
          "data": {
            "text/plain": [
              "<keras.callbacks.History at 0x7f82fc7edc90>"
            ]
          },
          "metadata": {},
          "execution_count": 4
        }
      ]
    },
    {
      "cell_type": "code",
      "source": [
        "_, acc = model.evaluate(xtrain, ytrain)\n",
        "print('training accuracy:', str(round(acc*100, 2))+'%')\n",
        "_, acc = model.evaluate(xtest, ytest)\n",
        "print('testing accuracy:', str(round(acc*100, 2))+'%')"
      ],
      "metadata": {
        "colab": {
          "base_uri": "https://localhost:8080/"
        },
        "id": "4S7pUAV96voV",
        "outputId": "bec67479-7c16-4c03-8bc9-3818851fb43c"
      },
      "execution_count": 5,
      "outputs": [
        {
          "output_type": "stream",
          "name": "stdout",
          "text": [
            "313/313 [==============================] - 1s 5ms/step - loss: 0.5477 - accuracy: 0.8190\n",
            "training accuracy: 81.9%\n",
            "63/63 [==============================] - 0s 5ms/step - loss: 1.1304 - accuracy: 0.6515\n",
            "testing accuracy: 65.15%\n"
          ]
        }
      ]
    }
  ]
}